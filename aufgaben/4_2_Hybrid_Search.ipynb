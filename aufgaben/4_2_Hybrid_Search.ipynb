{
 "cells": [
  {
   "cell_type": "markdown",
   "metadata": {},
   "source": [
    "# Hybrid Search vs. Similarity Search\n",
    "\n",
    "In diesem Notebook lernst du den Unterschied zwischen **Hybrid Search** und **Similarity Search** kennen anhand eines realen Beispiels: **andrena objects** (Softwarefirma) wird oft mit **Andrena** (Wildbienengattung) verwechselt!\n",
    "\n",
    "## Das Problem: Homonyme und Mehrdeutigkeit\n",
    "\n",
    "**andrena objects** ist eine Softwareentwicklungsfirma aus Karlsruhe, die sich auf agile Methoden spezialisiert hat. \"Andrena\" ist auch der wissenschaftliche Name für Sandbienen (eine Wildbienengattung).\n",
    "\n",
    "Diese Doppeldeutigkeit führt zu interessanten Herausforderungen bei der Suche:\n",
    "- Suche nach \"andrena\" könnte beide Bedeutungen zurückgeben\n",
    "- Suche nach \"andrena objects\" sollte eindeutig die Firma finden\n",
    "- Suche nach \"Firma mit Bienenname\" erfordert semantisches Verständnis\n",
    "\n"
   ]
  },
  {
   "cell_type": "markdown",
   "metadata": {},
   "source": [
    "## Der Demo-Datensatz\n",
    "\n",
    "Wir erstellen einen Beispieldatensatz mit drei Kategorien von Dokumenten:\n",
    "\n",
    "1. **andrena objects (Firma)** - Dokumente über die Softwarefirma\n",
    "2. **Andrena (Wildbienen)** - Dokumente über die Bienengattung\n",
    "3. **Andere Themen** - Rauschen (andere Firmen, andere Insekten, IT-Themen)\n",
    "\n",
    "Dieser Mix simuliert eine realistische Wissensdatenbank, in der beide Bedeutungen vorkommen können."
   ]
  },
  {
   "cell_type": "code",
   "execution_count": null,
   "metadata": {
    "ExecuteTime": {
     "end_time": "2025-10-23T18:56:17.659838Z",
     "start_time": "2025-10-23T18:56:17.655618Z"
    }
   },
   "outputs": [],
   "source": [
    "# Beispieldokumente - achte auf die Doppeldeutigkeit von \"andrena\"!\n",
    "beispiel_dokumente = [\n",
    "    # andrena objects - Softwarefirma (6 Dokumente)\n",
    "    \"andrena objects ist eine Softwareentwicklungsfirma mit Sitz in Karlsruhe, die sich auf agile Entwicklungsmethoden und Clean Code spezialisiert hat.\",\n",
    "    \"andrena objects bietet Dienstleistungen in den Bereichen Software-Entwicklung, Consulting, Coaching und Training für agile Methoden an.\",\n",
    "    \"Das Team von andrena objects besteht aus erfahrenen Software-Entwicklern, die Wert auf Qualität und handwerkliches Können legen.\",\n",
    "    \"andrena objects setzt auf moderne Technologien wie Java, Python, TypeScript und Cloud-native Architekturen für Kundenprojekte.\",\n",
    "    \"Die Unternehmenskultur bei andrena objects fördert kontinuierliches Lernen, Pair Programming und Test-Driven Development.\",\n",
    "    \n",
    "    # Andrena - Wildbienen (6 Dokumente)\n",
    "    \"Andrena ist eine Gattung von Wildbienen, die auch als Sandbienen oder Erdbienen bekannt sind und weltweit verbreitet vorkommen.\",\n",
    "    \"Sandbienen der Gattung Andrena nisten in selbstgegrabenen Röhren im Boden und sind wichtige Bestäuber für Obstbäume und Wildpflanzen.\",\n",
    "    \"Die Andrena-Arten sind durch ihre pelzige Behaarung und die Fähigkeit gekennzeichnet, Pollen in speziellen Haarbürsten zu sammeln.\",\n",
    "    \"In Deutschland gibt es über 100 verschiedene Andrena-Arten, die von März bis September aktiv sind und bevorzugt sandige Böden besiedeln.\",\n",
    "    \"Andrena-Weibchen legen Brutzellen an, in denen sie Pollen und Nektar für ihre Nachkommen sammeln, bevor sie ein Ei ablegen.\",\n",
    "    \"Die meisten Andrena-Arten sind oligolektisch, das heißt sie sammeln Pollen nur von bestimmten Pflanzenfamilien wie Weiden oder Kreuzblütlern.\",\n",
    "    \n",
    "    # Andere Softwarefirmen (5 Dokumente)\n",
    "    \"ThoughtWorks ist eine globale Softwareberatung, die sich auf agile Transformation und maßgeschneiderte Software-Lösungen konzentriert.\",\n",
    "    \"Netlight Consulting bietet IT-Beratung und Software-Entwicklung mit Fokus auf digitale Transformation und Innovation in Skandinavien und Europa.\",\n",
    "    \"INNOQ ist eine deutsche IT-Beratungsfirma, die sich auf Architektur-Beratung, Entwicklung und Technologie-Strategie spezialisiert hat.\",\n",
    "    \"it-agile aus Hamburg bietet Schulungen, Coaching und Beratung für Scrum, Kanban und andere agile Frameworks an.\",\n",
    "    \"Zühlke Engineering ist ein internationales Dienstleistungsunternehmen für Innovation und Software-Entwicklung mit Schweizer Wurzeln.\",\n",
    "    \n",
    "    # Andere Insekten (4 Dokumente)\n",
    "    \"Honigbienen der Art Apis mellifera leben in Staaten mit bis zu 50000 Individuen und produzieren Honig als Wintervorrat.\",\n",
    "    \"Hummeln gehören zur Gattung Bombus und sind robuste Bestäuber, die auch bei kühlen Temperaturen fliegen können.\",\n",
    "    \"Solitäre Wespen wie die Grabwespen graben Nester im Boden und versorgen ihre Larven mit gelähmten Insekten als Nahrung.\",\n",
    "    \"Schwebfliegen imitieren das Aussehen von Bienen und Wespen, sind aber harmlose Blütenbesucher und wichtige Bestäuber.\",\n",
    "    \n",
    "    # IT-Themen allgemein (5 Dokumente)\n",
    "    \"Test-Driven Development ist eine Entwicklungsmethode, bei der Tests vor dem eigentlichen Code geschrieben werden.\",\n",
    "    \"Microservices-Architekturen zerlegen Anwendungen in kleine, unabhängig deploybare Services mit klaren Schnittstellen.\",\n",
    "    \"Domain-Driven Design ist ein Ansatz zur Modellierung komplexer Software-Systeme basierend auf der Fachdomäne.\",\n",
    "    \"Continuous Integration und Continuous Deployment automatisieren den Build- und Deployment-Prozess für schnellere Releases.\",\n",
    "    \"Pair Programming ist eine agile Praxis, bei der zwei Entwickler gemeinsam an einem Computer arbeiten und Code schreiben.\"\n",
    "]"
   ]
  },
  {
   "cell_type": "markdown",
   "metadata": {},
   "source": [
    "## Hands-on: Vergleich der Retrieval-Methoden\n",
    "\n",
    "Starten wir zunächst mit einem klassischen Vektorretriever"
   ]
  },
  {
   "cell_type": "code",
   "execution_count": null,
   "metadata": {
    "ExecuteTime": {
     "end_time": "2025-10-23T18:56:52.567158Z",
     "start_time": "2025-10-23T18:56:37.697156Z"
    }
   },
   "outputs": [],
   "source": [
    "from langchain_chroma import Chroma\n",
    "from langchain_openai import OpenAIEmbeddings\n",
    "from langchain_core.documents import Document\n",
    "import os\n",
    "import chromadb\n",
    "from langchain_community.retrievers import BM25Retriever\n",
    "from langchain_chroma import Chroma\n",
    "from langchain_openai import OpenAIEmbeddings\n",
    "from langchain.retrievers import EnsembleRetriever\n",
    "from langchain_core.documents import Document\n",
    "\n",
    "from dotenv import load_dotenv\n",
    "\n",
    "# Lade Umgebungsvariablen\n",
    "load_dotenv()\n",
    "\n",
    "# Erstelle Document-Objekte aus den Beispieltexten\n",
    "documents = [Document(page_content=text) for text in beispiel_dokumente]\n",
    "\n",
    "embedding_model = os.getenv(\"EMBEDDING_MODEL\", \"text-embedding-3-small\")\n",
    "embeddings = OpenAIEmbeddings(model=embedding_model)\n",
    "\n",
    "# Erstelle einen neuen ephemeral client, um Duplikate bei mehrfachem Ausführen zu vermeiden\n",
    "client = chromadb.EphemeralClient()\n",
    "try:\n",
    "    client.delete_collection(\"hybrid_search_demo\")\n",
    "except Exception:\n",
    "    pass  # Collection doesn't exist yet, which is fine\n",
    "\n",
    "# Erstelle einen temporären Chroma Vector Store\n",
    "vector_store = Chroma.from_documents(\n",
    "    documents=documents,\n",
    "    embedding=embeddings,\n",
    "    collection_name=\"hybrid_search_demo\",\n",
    "    client=client\n",
    ")\n",
    "\n",
    "vector_retriever = vector_store.as_retriever(search_kwargs={\"k\": 7})\n",
    "\n",
    "print(\"Vector Store Retriever initialisiert\")"
   ]
  },
  {
   "cell_type": "markdown",
   "metadata": {},
   "source": [
    "Wenn wir diesem Retriever nun unsere Frage `\"Was ist andrena objects?\"` mitgeben erhalten wir folgendes Ergebnis:"
   ]
  },
  {
   "cell_type": "code",
   "execution_count": null,
   "metadata": {
    "ExecuteTime": {
     "end_time": "2025-10-23T18:58:51.579625Z",
     "start_time": "2025-10-23T18:58:51.124446Z"
    }
   },
   "outputs": [],
   "source": [
    "#TODO rufe den vector_retriever mit der frage \"Was ist andrena objects?\" auf und lasse die die ergebnisse ausgeben\n"
   ]
  },
  {
   "cell_type": "markdown",
   "metadata": {},
   "source": [
    "Kein schlechtes Ergebnis, aber einige Dokumente sind für unseren Fall nicht relevant da sie mit den Wildbienen zu tun haben.\n",
    "\n",
    "Hier kann ein BM25 Retriever abhilfe schaffen. Dieser beachtet nicht wie die Vektorsuche semantische Ähnlichkeit, sondern sucht nach exakten Keyword-Übereinstimmungen. BM25 (Best Matching 25) ist ein Ranking-Algorithmus, der auf Term Frequency (wie oft kommt ein Wort im Dokument vor) und Inverse Document Frequency (wie selten ist ein Wort in allen Dokumenten) basiert. Das bedeutet: Ein Dokument, das beide Begriffe \"andrena\" **und** \"objects\" enthält, wird höher gerankt als eines, das nur \"andrena\" enthält."
   ]
  },
  {
   "cell_type": "code",
   "execution_count": null,
   "metadata": {
    "ExecuteTime": {
     "end_time": "2025-10-23T18:59:36.877706Z",
     "start_time": "2025-10-23T18:59:36.843539Z"
    }
   },
   "outputs": [],
   "source": [
    "# 1. BM25 Retriever (Keyword-basiert)\n",
    "bm25_retriever = BM25Retriever.from_documents(documents)\n",
    "bm25_retriever.k = 7 \n",
    "\n",
    "print(\"BM25 Retriever initialisiert\")"
   ]
  },
  {
   "cell_type": "code",
   "execution_count": null,
   "metadata": {
    "ExecuteTime": {
     "end_time": "2025-10-23T18:59:55.444623Z",
     "start_time": "2025-10-23T18:59:55.438570Z"
    }
   },
   "outputs": [],
   "source": [
    "#TODO rufe den bm25_retriever mit der frage \"Was ist andrena objects?\" auf und lasse die die ergebnisse ausgeben\n"
   ]
  },
  {
   "cell_type": "markdown",
   "metadata": {},
   "source": [
    "Der BM25 Retriever findet keine Dokumente zu den Bienen mehr! **Warum?** Weil die Query \"Was ist andrena objects?\" beide Begriffe enthält: \"andrena\" **und** \"objects\". BM25 priorisiert Dokumente, die beide Keywords enthalten. Die Bienen-Dokumente enthalten zwar \"Andrena\", aber nie das Wort \"objects\" - daher werden sie im Ranking nach unten geschoben. Die Firmen-Dokumente mit \"andrena objects\" bekommen die höchsten Scores.\n",
    "\n",
    "**Was findet der Hybrid Retriever?** Er kombiniert die Ergebnisse von BM25 (keyword-basiert) und Vector Search (semantisch) mit einer gewichteten Kombination. Bei der Query \"Was ist andrena objects?\" profitieren wir von beiden Welten:\n",
    "- **BM25** findet alle Firmen-Dokumente mit dem exakten Begriff \"andrena objects\" \n",
    "- **Vector Search** ergänzt semantisch ähnliche Dokumente\n",
    "- Das Ergebnis ist eine kombinierte, neu gewichtete Liste, die die Stärken beider Methoden nutzt\n",
    "\n",
    "Der Hybrid-Ansatz ist besonders robust: Er findet sowohl bei exakten Keyword-Matches (z.B. \"andrena objects\") als auch bei umschreibenden Fragen (z.B. \"Softwarefirma mit Biene\") die richtigen Dokumente."
   ]
  },
  {
   "cell_type": "code",
   "execution_count": null,
   "metadata": {
    "ExecuteTime": {
     "end_time": "2025-10-23T19:00:37.331681Z",
     "start_time": "2025-10-23T19:00:36.701485Z"
    }
   },
   "outputs": [],
   "source": [
    "# 3. Hybrid Retriever (Ensemble)\n",
    "hybrid_retriever = EnsembleRetriever(\n",
    "    retrievers=[bm25_retriever, vector_retriever],\n",
    "    weights=[0.5, 0.5]  # 50/50 Gewichtung\n",
    ")\n",
    "print(\"Hybrid Retriever initialisiert\")\n",
    "\n",
    "results = hybrid_retriever.invoke(\"Was ist andrena objects?\")\n",
    "for i, doc in enumerate(results, 1):\n",
    "    print(f\"  {i}. {doc.page_content}\")"
   ]
  },
  {
   "cell_type": "markdown",
   "metadata": {},
   "source": [
    "### Hilfsfunktion für übersichtliche Ausgabe"
   ]
  },
  {
   "cell_type": "code",
   "execution_count": null,
   "metadata": {
    "ExecuteTime": {
     "end_time": "2025-10-23T19:01:08.707739Z",
     "start_time": "2025-10-23T19:01:08.703005Z"
    }
   },
   "outputs": [],
   "source": [
    "def compare_retrievers(query, retrievers_dict):\n",
    "    \"\"\"\n",
    "    Vergleicht verschiedene Retriever für eine gegebene Query\n",
    "    \n",
    "    Args:\n",
    "        query: Die Suchanfrage\n",
    "        retrievers_dict: Dict mit Namen und Retriever-Objekten\n",
    "    \"\"\"\n",
    "    print(f\"\\n{'='*80}\")\n",
    "    print(f\"QUERY: {query}\")\n",
    "    print(f\"{'='*80}\\n\")\n",
    "    \n",
    "    for name, retriever in retrievers_dict.items():\n",
    "        print(f\"--- {name} ---\")\n",
    "        results = retriever.invoke(query)\n",
    "        \n",
    "        for i, doc in enumerate(results, 1):\n",
    "            print(f\"  {i}. {doc.page_content}\")\n",
    "        \n",
    "        print()"
   ]
  },
  {
   "cell_type": "markdown",
   "metadata": {},
   "source": [
    "## Test 1: Exakte Firmen-Frage\n",
    "\n",
    "Frage: **\"Was ist andrena objects?\"**\n",
    "\n",
    "**Erwartung:** BM25 sollte die Firma-Dokumente mit dem exakten Begriff \"andrena objects\" finden und priorisieren."
   ]
  },
  {
   "cell_type": "code",
   "execution_count": null,
   "metadata": {
    "ExecuteTime": {
     "end_time": "2025-10-23T19:01:20.561389Z",
     "start_time": "2025-10-23T19:01:19.418936Z"
    }
   },
   "outputs": [],
   "source": [
    "compare_retrievers(\n",
    "    \"Was ist andrena objects?\",\n",
    "    {\n",
    "        \"BM25 (Keyword)\": bm25_retriever,\n",
    "        \"Vector (Semantic)\": vector_retriever,\n",
    "        \"Hybrid (Both)\": hybrid_retriever\n",
    "    }\n",
    ")"
   ]
  },
  {
   "cell_type": "markdown",
   "metadata": {},
   "source": [
    "## Test 2: Mehrdeutige Frage\n",
    "\n",
    "Frage: **\"Was macht andrena?\"**\n",
    "\n",
    "**Erwartung:** Diese Frage ist mehrdeutig! Sie könnte sich auf die Firma ODER die Bienengattung beziehen. \n",
    "Interessant zu sehen, welche Dokumente die verschiedenen Retriever zurückgeben."
   ]
  },
  {
   "cell_type": "code",
   "execution_count": null,
   "metadata": {
    "ExecuteTime": {
     "end_time": "2025-10-23T19:01:43.173095Z",
     "start_time": "2025-10-23T19:01:42.366190Z"
    }
   },
   "outputs": [],
   "source": [
    "compare_retrievers(\n",
    "    \"Was macht andrena?\",\n",
    "    {\n",
    "        \"BM25 (Keyword)\": bm25_retriever,\n",
    "        \"Vector (Semantic)\": vector_retriever,\n",
    "        \"Hybrid (Both)\": hybrid_retriever\n",
    "    }\n",
    ")"
   ]
  },
  {
   "cell_type": "markdown",
   "metadata": {},
   "source": [
    "## Test 3: Semantische Firmen-Frage\n",
    "\n",
    "Frage: **\"Erzähle mir über die Softwarefirma mit dem Bienennamen\"**\n",
    "\n",
    "**Erwartung:** Diese Frage erwähnt \"andrena\" nicht direkt, beschreibt aber semantisch die Firma. Vector Search sollte hier glänzen!"
   ]
  },
  {
   "cell_type": "code",
   "execution_count": null,
   "metadata": {
    "ExecuteTime": {
     "end_time": "2025-10-23T19:03:06.369909Z",
     "start_time": "2025-10-23T19:03:05.310679Z"
    }
   },
   "outputs": [],
   "source": [
    "compare_retrievers(\n",
    "    \"Erzähle mir über die Softwarefirma mit dem Bienennamen\",\n",
    "    {\n",
    "        \"BM25 (Keyword)\": bm25_retriever,\n",
    "        \"Vector (Semantic)\": vector_retriever,\n",
    "        \"Hybrid (Both)\": hybrid_retriever\n",
    "    }\n",
    ")"
   ]
  },
  {
   "cell_type": "markdown",
   "metadata": {},
   "source": [
    "## Test 4: Bienen-spezifische Frage\n",
    "\n",
    "Frage: **\"Welche Wildbienen graben Nester im Boden?\"**\n",
    "\n",
    "**Erwartung:** Sollte Andrena-Bienen-Dokumente finden, nicht die Firma!"
   ]
  },
  {
   "cell_type": "code",
   "execution_count": null,
   "metadata": {
    "ExecuteTime": {
     "end_time": "2025-10-23T19:03:31.614789Z",
     "start_time": "2025-10-23T19:03:30.703327Z"
    }
   },
   "outputs": [],
   "source": [
    "compare_retrievers(\n",
    "    \"Welche Wildbienen graben Nester im Boden?\",\n",
    "    {\n",
    "        \"BM25 (Keyword)\": bm25_retriever,\n",
    "        \"Vector (Semantic)\": vector_retriever,\n",
    "        \"Hybrid (Both)\": hybrid_retriever\n",
    "    }\n",
    ")"
   ]
  },
  {
   "cell_type": "markdown",
   "metadata": {},
   "source": [
    "## Was ist der Unterschied zwischen den Such-Methoden?\n",
    "\n",
    "### Similarity Search (Vector Search)\n",
    "Verwendet Embeddings für semantische Ähnlichkeit. Versteht Paraphrasen und Synonyme (\"Softwarefirma\" = \"IT-Unternehmen\"), aber kann bei mehrdeutigen Begriffen wie \"andrena\" beide Bedeutungen ähnlich bewerten.\n",
    "\n",
    "### BM25 (Keyword Search)\n",
    "Basiert auf exakter Wortübereinstimmung und TF-IDF-Ranking. Exzellent für präzise Begriffe (\"andrena objects\"), aber versteht keine Synonyme oder semantischen Kontext.\n",
    "\n",
    "### Hybrid Search (Ensemble Retriever)\n",
    "Kombiniert beide Methoden mit gewichteter Kombination (50/50):\n",
    "1. BM25 holt Top-K Dokumente (Keywords)\n",
    "2. Vector Search holt Top-K Dokumente (Semantik)\n",
    "3. Beide Listen werden kombiniert und neu gewichtet\n",
    "\n",
    "**Ideal für \"andrena objects\" Use Case:**\n",
    "- \"andrena objects\" (exakter Name) → BM25\n",
    "- \"Firma mit Biene\" (Beschreibung) → Vector Search\n",
    "- Hybrid nutzt beide Stärken"
   ]
  },
  {
   "cell_type": "markdown",
   "metadata": {},
   "source": [
    "## Integration in die RAG-Anwendung\n",
    "\n",
    "Nachdem du die Unterschiede in diesem vereinfachten Beispiel gesehen hast, kannst du die verschiedenen Retriever in der echten Anwendung testen und evaluieren.\n",
    "\n",
    "### Schritt 1: `.env` Datei anpassen\n",
    "\n",
    "Öffne die `.env` Datei im Projekt-Root und ändere die folgende Variable:\n",
    "\n",
    "```bash\n",
    "# Für Similarity Search (nur Vector)\n",
    "RETRIEVER_TYPE=SIMILARITY_SEARCH\n",
    "\n",
    "# Für Hybrid Search (BM25 + Vector)\n",
    "RETRIEVER_TYPE=HYBRID_SEARCH\n",
    "```\n",
    "\n",
    "**Wichtig:** Die Anzahl der abgerufenen Dokumente wird bei Hybrid Search auf beide Retriever aufgeteilt:\n",
    "- Wenn `RETRIEVED_NUMBER_OF_DOCUMENTS=4`, dann holt jeder Retriever 2 Dokumente\n",
    "- Die finale Liste enthält maximal 4 Dokumente aus der Kombination beider\n",
    "\n",
    "### Schritt 2: Backend neu starten\n",
    "\n",
    "Damit die Änderungen wirksam werden, musst du das Backend neu starten:\n",
    "\n",
    "### Schritt 3: Evaluation durchführen\n",
    "\n",
    "Führe die Evaluation aus, um die Retrieval-Qualität zu messen:\n",
    "\n",
    "\n",
    "### Schritt 4: Vergleich in Langfuse\n",
    "\n",
    "1. Öffne das Langfuse Dashboard: http://localhost:3000\n",
    "2. Navigiere zu \"Experiments\" oder \"Datasets\"\n",
    "3. Suche nach den neuesten Evaluation Runs:\n",
    "   - Einer mit `retriever_SIMILARITY_SEARCH`\n",
    "   - Einer mit `retriever_HYBRID_SEARCH`\n",
    "\n",
    "### Wichtige Metriken zum Vergleichen\n",
    "\n",
    "**Context Source Recall:**\n",
    "- Misst, ob alle relevanten Dokumente gefunden wurden\n",
    "- Höherer Wert = bessere Abdeckung\n",
    "\n",
    "**Context Source Precision:**\n",
    "- Misst, ob die gefundenen Dokumente relevant sind\n",
    "- Höherer Wert = weniger irrelevante Dokumente\n",
    "\n",
    "**Context Source F1:**\n",
    "- Harmonisches Mittel aus Precision und Recall\n",
    "- Beste Balance-Metrik\n",
    "\n",
    "### Diskussionsfragen\n",
    "\n",
    "1. **Welche Methode hat bessere Metriken?** Warum könnte das so sein?\n",
    "\n",
    "2. **Gibt es spezifische Fragen**, bei denen Hybrid Search deutlich besser ist?\n",
    "   - Schaue dir einzelne Traces in Langfuse an\n",
    "   - Achte auf Fragen mit mehrdeutigen Begriffen oder spezifischen Eigennamen\n",
    "\n",
    "3. **Performance-Überlegungen:**\n",
    "   - BM25 benötigt alle Dokumente im Speicher\n",
    "   - Vector Search skaliert besser bei sehr großen Datenmengen\n",
    "   - Hybrid Search ist langsamer, da zwei Retriever ausgeführt werden\n",
    "\n",
    "4. **Wann würdest du welche Methode wählen?**\n",
    "   - Similarity: Allgemeine semantische Suche, große Datenmengen\n",
    "   - Hybrid: Wenn exakte Begriffe UND semantisches Verständnis wichtig sind\n",
    "   - BM25: Rechtsdokumente mit exakten Zitaten und Begriffen\n",
    "\n",
    "5. **Das andrena-Problem in der echten Welt:**\n",
    "   - Gibt es in deiner Domäne ähnliche mehrdeutige Begriffe?\n",
    "   - Wie würde Hybrid Search dabei helfen?\n",
    "   - Welche zusätzlichen Strategien (Query Expansion, Re-Ranking) könnten nützlich sein?"
   ]
  }
 ],
 "metadata": {
  "kernelspec": {
   "display_name": "Python 3",
   "language": "python",
   "name": "python3"
  },
  "language_info": {
   "codemirror_mode": {
    "name": "ipython",
    "version": 3
   },
   "file_extension": ".py",
   "mimetype": "text/x-python",
   "name": "python",
   "nbconvert_exporter": "python",
   "pygments_lexer": "ipython3",
   "version": "3.11.0"
  }
 },
 "nbformat": 4,
 "nbformat_minor": 4
}
