{
 "cells": [
  {
   "cell_type": "markdown",
   "metadata": {},
   "source": [
    "# Chunking Strategien - Einfache Erklärung\n",
    "\n",
    "Um zu zeigen wie chunking funktioniert nehmen wir uns folgenden Beispieltext:\n"
   ]
  },
  {
   "cell_type": "code",
   "execution_count": null,
   "metadata": {
    "ExecuteTime": {
     "end_time": "2025-10-22T05:09:48.189354Z",
     "start_time": "2025-10-22T05:09:48.184451Z"
    }
   },
   "outputs": [],
   "source": [
    "beispiel_text = \"\"\"\n",
    "Künstliche Intelligenz (KI) ist ein Teilgebiet der Informatik. Sie befasst sich mit der Automatisierung intelligenten Verhaltens. Warum ist KI so wichtig? Die Antwort liegt in ihren vielfältigen Anwendungsmöglichkeiten!\n",
    "Machine Learning ist eine wichtige Methode der KI. Dabei lernen Computer aus Daten, ohne explizit programmiert zu werden. Es gibt verschiedene Arten: überwachtes Lernen, unüberwachtes Lernen und verstärkendes Lernen. Welche Methode ist die beste? Das hängt vom Anwendungsfall ab!\n",
    "Deep Learning ist eine spezielle Form des Machine Learning. Es verwendet neuronale Netze mit vielen Schichten. Diese Netze können komplexe Muster in großen Datenmengen erkennen. Besonders erfolgreich ist Deep Learning in der Bildverarbeitung und Spracherkennung!\n",
    "\n",
    "Large Language Models (LLMs) sind eine neuere Entwicklung. Sie basieren auf der Transformer-Architektur. Modelle wie GPT können Text generieren, übersetzen und Fragen beantworten. Sie werden mit riesigen Textmengen trainiert. Sind LLMs die Zukunft der KI? Viele Experten glauben das!\n",
    "Die Anwendungen von KI sind vielfältig. In der Medizin hilft KI bei der Diagnose von Krankheiten. In der Industrie optimiert sie Produktionsprozesse. Im Alltag nutzen wir KI in Sprachassistenten und Empfehlungssystemen. Wo wird KI als nächstes eingesetzt? Die Möglichkeiten scheinen grenzenlos!\n",
    "\"\"\""
   ]
  },
  {
   "cell_type": "markdown",
   "metadata": {},
   "source": [
    "## Character-based Chunking\n",
    "\n",
    "Character-based Chunking ist die **einfachste Chunking-Methode**. Der Text wird einfach nach einer festen Anzahl von Zeichen aufgeteilt, unabhängig von Wort- oder Satzgrenzen.\n",
    "\n",
    "**So funktioniert es:**\n",
    "\n",
    "1. Der Text wird in Stücke mit einer **festen Zeichenlänge** (z.B. 200 Zeichen) aufgeteilt\n",
    "2. Optional kann ein **Overlap** (Überlappung) definiert werden, sodass die Enden der Chunks sich überschneiden\n",
    "3. Die Aufteilung erfolgt **ohne Rücksicht** auf Wörter, Sätze oder semantische Grenzen\n",
    "\n",
    "**Vorteile:**\n",
    "- Sehr **einfach** zu implementieren\n",
    "- **Vorhersagbare** Chunk-Größen\n",
    "- **Schnell** in der Ausführung\n",
    "\n",
    "**Nachteile:**\n",
    "- **Keine semantische Struktur**: Sätze und Wörter werden mitten durchgeschnitten\n",
    "- **Schwer lesbar**: Chunks können mitten im Wort enden\n",
    "- **Schlechte Retrieval-Qualität**: Zusammenhängende Informationen werden oft getrennt\n",
    "\n",
    "Schauen wir uns an, wie das in der Praxis aussieht:"
   ]
  },
  {
   "cell_type": "code",
   "execution_count": null,
   "metadata": {},
   "outputs": [],
   "source": [
    "from langchain_text_splitters import CharacterTextSplitter\n",
    "\n",
    "def test_character_chunking(chunk_size=200, chunk_overlap=20, separator=\"\"):\n",
    "    \"\"\"\n",
    "    Demonstriert Character-based Chunking\n",
    "    \n",
    "    Parameters:\n",
    "    - chunk_size: Anzahl der Zeichen pro Chunk\n",
    "    - chunk_overlap: Anzahl der überlappenden Zeichen zwischen Chunks\n",
    "    - separator: Trennzeichen (leer = strikte Zeichentrennung)\n",
    "    \"\"\"\n",
    "    character_splitter = CharacterTextSplitter(\n",
    "        chunk_size=chunk_size,\n",
    "        chunk_overlap=chunk_overlap,\n",
    "        separator=separator,\n",
    "        length_function=len,\n",
    "    )\n",
    "    \n",
    "    chunks = character_splitter.split_text(beispiel_text)\n",
    "    \n",
    "    print(f\"Anzahl der Chunks: {len(chunks)}\")\n",
    "    print(f\"Chunk-Größe: {chunk_size} Zeichen, Overlap: {chunk_overlap} Zeichen\\n\")\n",
    "    print(\"=\" * 80)\n",
    "    \n",
    "    for i, chunk in enumerate(chunks, 1):\n",
    "        print(f\"\\nChunk {i} ({len(chunk)} Zeichen):\")\n",
    "        print(\"-\" * 80)\n",
    "        print(chunk)\n",
    "        print(\"-\" * 80)\n",
    "        \n",
    "        # Zeige die Überlappung mit dem nächsten Chunk\n",
    "        if i < len(chunks) and chunk_overlap > 0:\n",
    "            overlap_text = chunk[-chunk_overlap:]\n",
    "            next_overlap = chunks[i][:chunk_overlap]\n",
    "            if overlap_text in chunks[i]:\n",
    "                print(f\"Überlappung mit nächstem Chunk: '{overlap_text}'\")\n",
    "\n",
    "# Beispiel 1: Ohne Overlap - Sätze werden hart abgeschnitten!\n",
    "print(\"=== BEISPIEL 1: Chunk-Größe 200, KEIN Overlap ===\\n\")\n",
    "test_character_chunking(chunk_size=200, chunk_overlap=0)"
   ]
  },
  {
   "cell_type": "markdown",
   "metadata": {},
   "source": [
    "### Experimentiere mit verschiedenen Parametern\n",
    "\n",
    "Passe im Folgenden die `chunk_size` und `chunk_overlap` Werte an, um zu sehen wie sich die Chunks verändern.\n",
    "\n",
    "**Interessante Szenarien zum Ausprobieren:**\n",
    "\n",
    "1. **Sehr kleine Chunks** (chunk_size=100, chunk_overlap=0)\n",
    "   - Zeigt extreme Fragmentierung\n",
    "   - Sätze werden stark zerschnitten\n",
    "\n",
    "2. **Kleine Chunks mit Overlap** (chunk_size=100, chunk_overlap=30)\n",
    "   - Overlap von 30% hilft, zerbrochene Wörter zu \"reparieren\"\n",
    "   - Aber erhöht Redundanz\n",
    "\n",
    "3. **Mittlere Chunks ohne Overlap** (chunk_size=300, chunk_overlap=0)\n",
    "   - Weniger Fragmentierung\n",
    "   - Aber immer noch harte Schnitte\n",
    "\n",
    "4. **Mittlere Chunks mit moderatem Overlap** (chunk_size=300, chunk_overlap=50)\n",
    "   - Balance zwischen Größe und Kontinuität\n",
    "\n",
    "5. **Großer Overlap** (chunk_size=200, chunk_overlap=150)\n",
    "   - 75% Überlappung!\n",
    "   - Sehr hohe Redundanz, aber maximale Kontinuität\n",
    "\n",
    "Probiere diese Werte aus und achte darauf:\n",
    "- Wo werden Wörter zerschnitten?\n",
    "- Wie viel Redundanz entsteht durch Overlap?\n",
    "- Welche Konfiguration ist am besten lesbar?"
   ]
  },
  {
   "cell_type": "code",
   "execution_count": null,
   "metadata": {},
   "outputs": [],
   "source": [
    "# Beispiel 2: Experimentiere mit verschiedenen Werten!\n",
    "# Tipp: Probiere die oben genannten Szenarien aus\n",
    "\n",
    "# Szenario 4: Mittlere Chunks mit moderatem Overlap\n",
    "test_character_chunking(chunk_size=300, chunk_overlap=50)"
   ]
  },
  {
   "cell_type": "markdown",
   "metadata": {},
   "source": [
    "### Das Problem: Sätze werden mitten durchgeschnitten\n",
    "\n",
    "Wie du in den Beispielen oben siehst, wird der Text **strikt nach Zeichenzahl** aufgeteilt:\n",
    "\n",
    "- **Chunk 1** endet möglicherweise mitten im Satz: \"...Künstliche Intelligenz (KI) ist ein Teilgebiet der Informatik. Sie befasst sich mit der Automatisierung intelligenten Verhaltens. Warum ist KI so wichtig? Die Antwort liegt in ihren vielfälti\"\n",
    "- **Chunk 2** beginnt dann mit: \"gen Anwendungsmöglichkeiten!...\"\n",
    "\n",
    "Das Wort \"vielfältigen\" wird in **\"vielfälti\"** und **\"gen\"** zerschnitten!\n",
    "\n",
    "**Overlap hilft nur teilweise:**\n",
    "- Mit Overlap von 50 Zeichen werden die letzten 50 Zeichen des vorherigen Chunks im nächsten Chunk wiederholt\n",
    "- Das reduziert das Problem, aber verhindert es nicht vollständig\n",
    "- Außerdem erhöht es die Gesamtgröße der Daten durch Duplikation\n",
    "\n",
    "**Fazit:** Character-based Chunking ist einfach, aber für die meisten RAG-Anwendungen **nicht empfohlen**. Besser geeignet sind semantisch bewusste Methoden wie Recursive Chunking (siehe unten)."
   ]
  },
  {
   "cell_type": "markdown",
   "metadata": {},
   "source": [
    "## Recursive Chunking\n",
    "\n",
    "Recursive Chunking ist eine hierarchische Methode, um Text in kleinere Teile (Chunks) zu zerlegen. Der Name \"recursive\" (rekursiv) kommt daher, dass der Algorithmus verschiedene Trennzeichen nacheinander ausprobiert.\n",
    "\n",
    "**So funktioniert es:**\n",
    "\n",
    "1. Der Algorithmus versucht zuerst, den Text mit dem **ersten Separator** (z.B. `\\n\\n` - doppelte Zeilenumbrüche) zu trennen\n",
    "2. Wenn die resultierenden Teile noch zu groß sind, versucht er den **nächsten Separator** (z.B. `\\n` - einfache Zeilenumbrüche)\n",
    "3. Dieser Prozess wiederholt sich durch die Liste der Separatoren (z.B. `.`, ` `, ``) bis die Chunk-Größe erreicht ist\n",
    "\n",
    "**Warum ist das nützlich?**\n",
    "\n",
    "- Es erhält **natürliche Textgrenzen**: Absätze bleiben zusammen, wenn möglich\n",
    "- Es ist **flexibel**: Falls nötig, wird an kleineren Einheiten getrennt (Sätze, Wörter, Zeichen)\n",
    "- Es ist **semantisch sinnvoll**: Zusammenhängende Informationen bleiben eher beisammen"
   ]
  },
  {
   "cell_type": "code",
   "execution_count": null,
   "metadata": {
    "ExecuteTime": {
     "end_time": "2025-10-22T05:09:49.274152Z",
     "start_time": "2025-10-22T05:09:49.270506Z"
    }
   },
   "outputs": [],
   "source": [
    "from langchain_text_splitters import RecursiveCharacterTextSplitter\n",
    "\n",
    "def test_chunking(chunk_size=500,chunk_overlap=50,separators=[\"\\n\\n\", \"\\n\", \".\", \" \"]):\n",
    "    recursive_splitter = RecursiveCharacterTextSplitter(\n",
    "        chunk_size=chunk_size,\n",
    "        chunk_overlap=chunk_overlap,\n",
    "        separators=separators,\n",
    "    )\n",
    "\n",
    "    chunks = recursive_splitter.split_text(beispiel_text)\n",
    "\n",
    "    print(f\"Anzahl der Chunks: {len(chunks)}\\n\")\n",
    "    print(\"=\"*80)\n",
    "\n",
    "    for i, chunk in enumerate(chunks, 1):\n",
    "        print(f\"\\nChunk {i} ({len(chunk)} Zeichen):\")\n",
    "        print(\"-\" * 80)\n",
    "        print(chunk)\n",
    "        print(\"-\" * 80)\n",
    "\n",
    "test_chunking()"
   ]
  },
  {
   "cell_type": "markdown",
   "metadata": {},
   "source": [
    "### Aufgabe 1: Separatoren verstehen\n",
    "Einer der Chunks ist signifikant größer als die anderen.\n",
    "\n",
    "**Wie funktionieren Separatoren?**\n",
    "\n",
    "Der RecursiveCharacterTextSplitter arbeitet die Separatoren-Liste hierarchisch ab:\n",
    "1. Zuerst versucht er mit `\\n\\n` (Absatzgrenzen) zu trennen\n",
    "2. Wenn Chunks noch zu groß sind, nutzt er `\\n` (Zeilenumbrüche)\n",
    "3. Danach kommt `.` (Satzenden mit Punkt)\n",
    "4. Als letztes würde er bei einzelnen Zeichen trennen\n",
    "\n",
    "**Problem:** Chunk 1 ist mit 499 Zeichen fast doppelt so groß wie die anderen!\n",
    "\n",
    "**Ursache:** Im Text enden viele Sätze mit `!` oder `?`, aber diese Zeichen fehlen in der Separatoren-Liste. Daher werden zusammenhängende Textblöcke nicht optimal getrennt.\n",
    "\n",
    "**Lösung:** Füge die fehlenden Satzzeichen `!` und `?` als Separatoren hinzu:"
   ]
  },
  {
   "cell_type": "markdown",
   "metadata": {},
   "source": [
    "#### Experiment 1: Kleine Chunks (chunk_size=200)\n",
    "\n",
    "Was passiert, wenn wir sehr kleine Chunks verwenden?"
   ]
  },
  {
   "cell_type": "code",
   "execution_count": null,
   "metadata": {
    "ExecuteTime": {
     "end_time": "2025-10-22T05:10:11.712616Z",
     "start_time": "2025-10-22T05:10:11.707272Z"
    }
   },
   "outputs": [],
   "source": [
    "# Teste mit kleiner chunk_size\n",
    "test_chunking(chunk_size=200, chunk_overlap=50)"
   ]
  },
  {
   "cell_type": "markdown",
   "metadata": {},
   "source": [
    "#### Experiment 2: Große Chunks (chunk_size=1000)\n",
    "\n",
    "Wie sehen die Chunks aus, wenn wir eine größere Chunk-Größe verwenden?"
   ]
  },
  {
   "cell_type": "code",
   "execution_count": null,
   "metadata": {
    "ExecuteTime": {
     "end_time": "2025-10-22T05:10:19.676316Z",
     "start_time": "2025-10-22T05:10:19.674068Z"
    }
   },
   "outputs": [],
   "source": [
    "# Teste mit großer chunk_size\n",
    "test_chunking(chunk_size=1000, chunk_overlap=50)"
   ]
  },
  {
   "cell_type": "markdown",
   "metadata": {},
   "source": [
    "## Chunking-Strategie evaluieren\n",
    "\n",
    "Nachdem du verschiedene Chunking-Parameter getestet hast, möchtest du herausfinden, welche Konfiguration die beste Retrieval-Qualität liefert.\n",
    "\n",
    "### Schritt-für-Schritt Anleitung zur Evaluation\n",
    "\n",
    "#### 1. Chunking-Parameter in `.env` anpassen und Evaluierung starten\n",
    "\n",
    "Öffne die `.env` Datei und passe die folgenden Variablen an:\n",
    "\n",
    "```bash\n",
    "CHUNK_SIZE=5000          # Gewünschte Chunk-Größe in Zeichen\n",
    "CHUNK_OVERLAP=500        # Überlappung zwischen Chunks\n",
    "```\n",
    "\n",
    "- Backend neu starten, damit die neuen Chunking-Parameter wirksam werden\n",
    "- Evaluation ausführen\n",
    "\n",
    "\n",
    "#### 4. Ergebnisse in Langfuse analysieren\n",
    "\n",
    "1. Öffne das Langfuse Dashboard\n",
    "2. Suche nach den neuesten Evaluation-Runs\n",
    "3. Vergleiche die Metriken:\n",
    "   - **Context Precision**: Wie relevant sind die abgerufenen Chunks?\n",
    "   - **Context Recall**: Werden alle relevanten Informationen gefunden?\n",
    "   - **Answer Relevancy**: Wie gut beantwortet das System die Frage?\n",
    "\n",
    "#### 5. Verschiedene Konfigurationen vergleichen\n",
    "\n",
    "Wiederhole Schritte 1-4 mit verschiedenen `CHUNK_SIZE` und `CHUNK_OVERLAP` Werten:\n",
    "- Kleine Chunks (z.B. 1000): Präziser, aber möglicherweise fehlender Kontext\n",
    "- Große Chunks (z.B. 10000): Mehr Kontext, aber weniger präzise Retrieval\n",
    "- Overlap: Hilft bei Chunks, die an wichtigen Stellen getrennt wurden\n",
    "\n",
    "**Tipp:** Notiere dir die Scores für jede Konfiguration, um die optimalen Parameter zu finden!"
   ]
  }
 ],
 "metadata": {
  "kernelspec": {
   "display_name": "advanced-rag (3.12.9)",
   "language": "python",
   "name": "python3"
  },
  "language_info": {
   "codemirror_mode": {
    "name": "ipython",
    "version": 3
   },
   "file_extension": ".py",
   "mimetype": "text/x-python",
   "name": "python",
   "nbconvert_exporter": "python",
   "pygments_lexer": "ipython3",
   "version": "3.12.9"
  }
 },
 "nbformat": 4,
 "nbformat_minor": 4
}
